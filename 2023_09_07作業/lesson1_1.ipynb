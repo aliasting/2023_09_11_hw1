{
 "cells": [
  {
   "cell_type": "code",
   "execution_count": null,
   "metadata": {},
   "outputs": [],
   "source": [
    "# 連結\n",
    "'''\n",
    "連結的結構略有不同，會分為前後兩個片段符號：\n",
    "\n",
    "前者為 [ ]：中括號內需要補上連結的顯示文字。\n",
    "後者為 ( )：小括號內補上的是連結路徑。\n",
    "以下為連結範例：Google'''\n",
    "\n",
    "[Google](https://www.google.com.tw/)\n",
    "\n",
    "# 圖片\n",
    "'''\n",
    "圖片要特別注意是屬於行內元素，因此圖片也可以放在文字段落之中（與 HTML 中的 img 標籤邏輯一致），不過大多情況下會將圖片作為獨立區塊使用。\n",
    "\n",
    "圖片也與連結結構接近，只不過前方多了 !。\n",
    "\n",
    "![ ]：與連結結構接近，但前方緊貼著 ! 符號。中括號的內容也並非必填，其文字內容通常作為 hover 後的提示文字或作為 SEO 增強使用。\n",
    "( )：圖片連結位置。\n",
    "'''\n",
    "![unsplash 圖片](https://images.unsplash.com/photo-1573900941478-7cc800f708f3?ixlib=rb-1.2.1&ixid=eyJhcHBfaWQiOjEyMDd9&auto=format&fit=crop&w=2100&q=80)\n",
    "\n",
    "實際運作範例：圖片\n",
    "\n",
    "unsplash 圖片\n",
    "\n",
    "參考文章：\n",
    "\n",
    "https://markdown.tw"
   ]
  },
  {
   "cell_type": "markdown",
   "metadata": {},
   "source": [
    "[Google](https://www.google.com.tw/)\n"
   ]
  }
 ],
 "metadata": {
  "language_info": {
   "name": "python"
  },
  "orig_nbformat": 4
 },
 "nbformat": 4,
 "nbformat_minor": 2
}
