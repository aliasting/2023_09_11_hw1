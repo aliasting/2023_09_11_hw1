{
 "cells": [
  {
   "cell_type": "code",
   "execution_count": 3,
   "metadata": {},
   "outputs": [
    {
     "name": "stdout",
     "output_type": "stream",
     "text": [
      "您的 BMI數值為:25.535,您的體重過重\n"
     ]
    }
   ],
   "source": [
    "#Homework:BMI值分析他人的身體狀況\n",
    "'''\n",
    "BMI值     <18.5    18.5-25   25-30   >30\n",
    "身體狀態   太輕     正常      過重    肥胖\n",
    "\n",
    "# bmi.py\n",
    "請輸入身高,單位為(公分):177\n",
    "請輸入體重,單位為(公斤):80\n",
    "\n",
    "您的BMI是25.53544\n",
    "print(您的體重過重)\n",
    "'''\n",
    "\n",
    "h = float(input(\"請輸入身高(公分)\" ))/100\n",
    "w = float(input(\"請輸入體重(公斤\" ))\n",
    "bmi = round(w/(h*h),3)\n",
    "if bmi < 18.5:\n",
    "   note = (\"您的體重太輕\") \n",
    "elif bmi >= 18.5 and bmi <= 25 :\n",
    "    note = (\"您的體重正常\") \n",
    "elif bmi >= 25 and bmi <= 30 :\n",
    "    note = (\"您的體重過重\") \n",
    "else:\n",
    "     bmi > 30\n",
    "     note = (\"您的體重肥胖\")  \n",
    " \n",
    "print(f\"您的 BMI數值為:{bmi},{note}\")"
   ]
  },
  {
   "cell_type": "code",
   "execution_count": null,
   "metadata": {},
   "outputs": [],
   "source": [
    "#Homework 高血壓\n",
    "'''\n",
    "分類(2017 ACC/AHA/AAPA/)   收縮壓(mmHg)   關係   舒張壓(mmHg)\n",
    "      正常                  <120          且      <80\n",
    "    血壓升高                 120-129      且       <80\n",
    "    高血壓一期               130-139      或       80-89\n",
    "    高血壓二期               >=140        或       >=90\n",
    "    單純收縮期高血壓          >=130        且       <80\n",
    "\n",
    "sbp = int(input(\"請輸入收縮壓:\"))\n",
    "dbp = int(input(\"請輸入舒張壓:\"))\n",
    "'''"
   ]
  },
  {
   "cell_type": "code",
   "execution_count": 2,
   "metadata": {},
   "outputs": [
    {
     "ename": "TypeError",
     "evalue": "'int' object is not callable",
     "output_type": "error",
     "traceback": [
      "\u001b[1;31m---------------------------------------------------------------------------\u001b[0m",
      "\u001b[1;31mTypeError\u001b[0m                                 Traceback (most recent call last)",
      "\u001b[1;32mc:\\Users\\PowerUser\\Documents\\GitHub\\11209python_alias\\lesson7_2.ipynb 儲存格 3\u001b[0m line \u001b[0;36m8\n\u001b[0;32m      <a href='vscode-notebook-cell:/c%3A/Users/PowerUser/Documents/GitHub/11209python_alias/lesson7_2.ipynb#W2sZmlsZQ%3D%3D?line=5'>6</a>\u001b[0m \u001b[39mif\u001b[39;00m sbp \u001b[39m<\u001b[39m \u001b[39m120\u001b[39m \u001b[39mand\u001b[39;00m dbp \u001b[39m<\u001b[39m \u001b[39m80\u001b[39m:\n\u001b[0;32m      <a href='vscode-notebook-cell:/c%3A/Users/PowerUser/Documents/GitHub/11209python_alias/lesson7_2.ipynb#W2sZmlsZQ%3D%3D?line=6'>7</a>\u001b[0m     \u001b[39mprint\u001b[39m(\u001b[39m'\u001b[39m\u001b[39m血壓正常\u001b[39m\u001b[39m'\u001b[39m)\n\u001b[1;32m----> <a href='vscode-notebook-cell:/c%3A/Users/PowerUser/Documents/GitHub/11209python_alias/lesson7_2.ipynb#W2sZmlsZQ%3D%3D?line=7'>8</a>\u001b[0m \u001b[39melif\u001b[39;00m sbp(\u001b[39mrange\u001b[39;49m(\u001b[39m120\u001b[39;49m,\u001b[39m129\u001b[39;49m)) \u001b[39mand\u001b[39;00m dbp \u001b[39m<\u001b[39m\u001b[39m80\u001b[39m:\n\u001b[0;32m      <a href='vscode-notebook-cell:/c%3A/Users/PowerUser/Documents/GitHub/11209python_alias/lesson7_2.ipynb#W2sZmlsZQ%3D%3D?line=8'>9</a>\u001b[0m     \u001b[39mprint\u001b[39m(\u001b[39m'\u001b[39m\u001b[39m血壓升高\u001b[39m\u001b[39m'\u001b[39m)\n\u001b[0;32m     <a href='vscode-notebook-cell:/c%3A/Users/PowerUser/Documents/GitHub/11209python_alias/lesson7_2.ipynb#W2sZmlsZQ%3D%3D?line=9'>10</a>\u001b[0m \u001b[39melif\u001b[39;00m  sbp(\u001b[39mrange\u001b[39m(\u001b[39m130\u001b[39m,\u001b[39m139\u001b[39m)) \u001b[39mor\u001b[39;00m dbp (\u001b[39mrange\u001b[39m(\u001b[39m80\u001b[39m,\u001b[39m89\u001b[39m)):\n",
      "\u001b[1;31mTypeError\u001b[0m: 'int' object is not callable"
     ]
    }
   ],
   "source": [
    "#正常血壓是收縮壓<120(mmHg)且舒張壓<80mmHg)\n",
    "\n",
    "sbp = int(input(\"請輸入收縮壓:\"))\n",
    "dbp = int(input(\"請輸入舒張壓:\"))\n",
    "\n",
    "if sbp < 120 and dbp < 80:\n",
    "    print('血壓正常')\n",
    "elif sbp(range(120,129)) and dbp <80:\n",
    "    print('血壓升高')\n",
    "elif  sbp(range(130,139)) or dbp (range(80,89)):\n",
    "    print('高血壓第一期') \n",
    "elif  sbp >= 140 or dbp >= 90:\n",
    "    print('高血壓第二期') \n",
    "else:\n",
    "    sbp >= 130 and dbp < 80 \n",
    "    print('單純收縮期高血壓') \n"
   ]
  }
 ],
 "metadata": {
  "kernelspec": {
   "display_name": "Python 3",
   "language": "python",
   "name": "python3"
  },
  "language_info": {
   "codemirror_mode": {
    "name": "ipython",
    "version": 3
   },
   "file_extension": ".py",
   "mimetype": "text/x-python",
   "name": "python",
   "nbconvert_exporter": "python",
   "pygments_lexer": "ipython3",
   "version": "3.10.8"
  },
  "orig_nbformat": 4
 },
 "nbformat": 4,
 "nbformat_minor": 2
}
