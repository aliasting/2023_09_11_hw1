{
 "cells": [
  {
   "cell_type": "code",
   "execution_count": 3,
   "metadata": {},
   "outputs": [
    {
     "ename": "ModuleNotFoundError",
     "evalue": "No module named 'pyinputplus'",
     "output_type": "error",
     "traceback": [
      "\u001b[1;31m---------------------------------------------------------------------------\u001b[0m",
      "\u001b[1;31mModuleNotFoundError\u001b[0m                       Traceback (most recent call last)",
      "\u001b[1;32mc:\\Users\\PowerUser\\Documents\\GitHub\\2023_09_11_hw1\\lesson6_2.ipynb 儲存格 1\u001b[0m line \u001b[0;36m1\n\u001b[1;32m----> <a href='vscode-notebook-cell:/c%3A/Users/PowerUser/Documents/GitHub/2023_09_11_hw1/lesson6_2.ipynb#W0sZmlsZQ%3D%3D?line=0'>1</a>\u001b[0m \u001b[39mimport\u001b[39;00m \u001b[39mpyinputplus\u001b[39;00m \u001b[39mas\u001b[39;00m \u001b[39mpyip\u001b[39;00m\n\u001b[0;32m      <a href='vscode-notebook-cell:/c%3A/Users/PowerUser/Documents/GitHub/2023_09_11_hw1/lesson6_2.ipynb#W0sZmlsZQ%3D%3D?line=2'>3</a>\u001b[0m help(pyip\u001b[39m.\u001b[39minputStr)\n",
      "\u001b[1;31mModuleNotFoundError\u001b[0m: No module named 'pyinputplus'"
     ]
    }
   ],
   "source": [
    "import pyinputplus as pyip\n",
    "\n",
    "help(pyip.inputStr)"
   ]
  },
  {
   "cell_type": "code",
   "execution_count": 2,
   "metadata": {},
   "outputs": [
    {
     "name": "stdout",
     "output_type": "stream",
     "text": [
      "請輸入您的姓名:"
     ]
    },
    {
     "data": {
      "text/plain": [
       "'123'"
      ]
     },
     "execution_count": 2,
     "metadata": {},
     "output_type": "execute_result"
    }
   ],
   "source": [
    "pyip.inputStr(prompt='請輸入您的姓名:')"
   ]
  },
  {
   "cell_type": "code",
   "execution_count": 3,
   "metadata": {},
   "outputs": [
    {
     "name": "stdout",
     "output_type": "stream",
     "text": [
      "請輸入一組數字:"
     ]
    },
    {
     "data": {
      "text/plain": [
       "12"
      ]
     },
     "execution_count": 3,
     "metadata": {},
     "output_type": "execute_result"
    }
   ],
   "source": [
    "pyip.inputNum(prompt=\"請輸入一組數字:\")"
   ]
  },
  {
   "cell_type": "code",
   "execution_count": 4,
   "metadata": {},
   "outputs": [
    {
     "name": "stdout",
     "output_type": "stream",
     "text": [
      "Help on function inputNum in module pyinputplus:\n",
      "\n",
      "inputNum(prompt='', default=None, blank=False, timeout=None, limit=None, strip=None, allowRegexes=None, blockRegexes=None, applyFunc=None, postValidateApplyFunc=None, min=None, max=None, greaterThan=None, lessThan=None)\n",
      "    Prompts the user to enter a number, either an integer or a floating-point\n",
      "    value. Returns an int or float value (depending on if the user entered a\n",
      "    decimal in their input.)\n",
      "    \n",
      "    Run ``help(pyinputplus.parameters)`` for an explanation of the common parameters.\n",
      "    \n",
      "    * ``min`` (None, float): If not ``None``, the minimum accepted numeric value, including the minimum argument.\n",
      "    * ``max`` (None, float): If not ``None``, the maximum accepted numeric value, including the maximum argument.\n",
      "    * ``greaterThan`` (None, float): If not ``None``, the minimum accepted numeric value, not including the ``greaterThan`` argument.\n",
      "    * ``lessThan`` (None, float): If not ``None``, the maximum accepted numeric value, not including the ``lessThan`` argument.\n",
      "    \n",
      "    >>> import pyinputplus as pyip\n",
      "    >>> response = pyip.inputNum()\n",
      "    forty two\n",
      "    'forty two' is not a number.\n",
      "    42\n",
      "    >>> response\n",
      "    42\n",
      "    >>> response = pyip.inputNum()\n",
      "    9\n",
      "    >>> type(response)\n",
      "    <class 'int'>\n",
      "    >>> response = pyip.inputNum()\n",
      "    9.0\n",
      "    >>> type(response)\n",
      "    <class 'float'>\n",
      "    >>> response = pyip.inputNum(min=4)\n",
      "    3\n",
      "    Number must be at minimum 4.\n",
      "    4\n",
      "    >>> response\n",
      "    4\n",
      "    >>> response = pyip.inputNum(greaterThan=4)\n",
      "    4\n",
      "    Number must be greater than 4.\n",
      "    4.1\n",
      "    >>> response\n",
      "    4.1\n",
      "    >>> response = pyip.inputNum(limit=2)\n",
      "    dog\n",
      "    'dog' is not a number.\n",
      "    cat\n",
      "    'cat' is not a number.\n",
      "    Traceback (most recent call last):\n",
      "        ...\n",
      "    pyinputplus.RetryLimitException\n",
      "\n"
     ]
    }
   ],
   "source": [
    "help(pyip.inputNum)"
   ]
  },
  {
   "cell_type": "code",
   "execution_count": null,
   "metadata": {},
   "outputs": [],
   "source": [
    "#學生總分為300\n",
    "#有些學生可以加分5%\n",
    "#如果加分超過300,就以300分為準\n",
    "import pyinputplus as pyip\n",
    "scores = pyip.inputInt(prompt=\"請輸入學生分數(最高分300分):\",min=0,max=300)\n",
    "is_add = input(\"請問是否符合加分條件?(y,n)\")\n",
    "if is_add == \"y\":\n",
    "    scores *= 1.05\n",
    "    if scores > 300:\n",
    "        scores = 300\n",
    "print(f\"學生總分是:{scores}\")\n",
    "\n",
    "'''\n",
    "請輸入學生分數(最高分300分):'a' is not an integer.\n",
    "請輸入學生分數(最高分300分):Number must be at maximum 300.\n",
    "請輸入學生分數(最高分300分):Number must be at minimum 0.\n",
    "請輸入學生分數(最高分300分):學生總分是:283.5\n",
    "'''"
   ]
  },
  {
   "cell_type": "code",
   "execution_count": null,
   "metadata": {},
   "outputs": [],
   "source": [
    "# 如果x不是負數，則傳回值為 x ** (1 / y)。\n",
    "# 如果x是負數而且為偶數，則傳回值為\"虛數\"。\n",
    "# 如果x是負數而且為奇數，則傳回值為 -(-x) ** (1 / y)\n",
    "\n",
    "import pyinputplus as pyip\n",
    "\n",
    "x = pyip.inputInt(\"請輸入x:\")\n",
    "print(x)\n",
    "y = pyip.inputInt(\"請輸入y:\")\n",
    "print(y)\n",
    "\n",
    "if x >= 0:\n",
    "    root = x ** (1 / y)\n",
    "else:\n",
    "    if x % 2 == 0:\n",
    "        root = \"虛數\"\n",
    "    else:\n",
    "        root = -(-x) ** (1 / y)\n",
    "\n",
    "\n",
    "print(root)\n",
    "'''\n",
    "請輸入x:'abc' is not an integer.\n",
    "請輸入x:'12.56' is not an integer.\n",
    "請輸入x:Blank values are not allowed.\n",
    "請輸入x:Blank values are not allowed.\n",
    "請輸入x:Blank values are not allowed.\n",
    "請輸入x:Blank values are not allowed.\n",
    "請輸入x:Blank values are not allowed.\n",
    "請輸入x:Blank values are not allowed.\n",
    "請輸入x:Blank values are not allowed.\n",
    "請輸入x:Blank values are not allowed.\n",
    "請輸入x:5\n",
    "請輸入y:5\n",
    "1.379729661461215\n",
    "'''"
   ]
  },
  {
   "cell_type": "code",
   "execution_count": 1,
   "metadata": {},
   "outputs": [
    {
     "ename": "NameError",
     "evalue": "name 'pyip' is not defined",
     "output_type": "error",
     "traceback": [
      "\u001b[1;31m---------------------------------------------------------------------------\u001b[0m",
      "\u001b[1;31mNameError\u001b[0m                                 Traceback (most recent call last)",
      "\u001b[1;32mc:\\Users\\PowerUser\\Documents\\GitHub\\2023_09_11_hw1\\lesson6_2.ipynb 儲存格 7\u001b[0m line \u001b[0;36m7\n\u001b[0;32m      <a href='vscode-notebook-cell:/c%3A/Users/PowerUser/Documents/GitHub/2023_09_11_hw1/lesson6_2.ipynb#W6sZmlsZQ%3D%3D?line=0'>1</a>\u001b[0m \u001b[39m# 90(含)~100分為「優」\u001b[39;00m\n\u001b[0;32m      <a href='vscode-notebook-cell:/c%3A/Users/PowerUser/Documents/GitHub/2023_09_11_hw1/lesson6_2.ipynb#W6sZmlsZQ%3D%3D?line=1'>2</a>\u001b[0m \u001b[39m# 80(含)~89分為「甲」\u001b[39;00m\n\u001b[0;32m      <a href='vscode-notebook-cell:/c%3A/Users/PowerUser/Documents/GitHub/2023_09_11_hw1/lesson6_2.ipynb#W6sZmlsZQ%3D%3D?line=2'>3</a>\u001b[0m \u001b[39m# 70(含)~79分為「乙」\u001b[39;00m\n\u001b[0;32m      <a href='vscode-notebook-cell:/c%3A/Users/PowerUser/Documents/GitHub/2023_09_11_hw1/lesson6_2.ipynb#W6sZmlsZQ%3D%3D?line=3'>4</a>\u001b[0m \u001b[39m# 60(含)~69分為「丙」\u001b[39;00m\n\u001b[0;32m      <a href='vscode-notebook-cell:/c%3A/Users/PowerUser/Documents/GitHub/2023_09_11_hw1/lesson6_2.ipynb#W6sZmlsZQ%3D%3D?line=4'>5</a>\u001b[0m \u001b[39m# 0(含)~59分為「丁」\u001b[39;00m\n\u001b[1;32m----> <a href='vscode-notebook-cell:/c%3A/Users/PowerUser/Documents/GitHub/2023_09_11_hw1/lesson6_2.ipynb#W6sZmlsZQ%3D%3D?line=6'>7</a>\u001b[0m score \u001b[39m=\u001b[39m pyip\u001b[39m.\u001b[39minputInt(\u001b[39m\"\u001b[39m\u001b[39m請輸入學生分數:\u001b[39m\u001b[39m\"\u001b[39m,\u001b[39mmin\u001b[39m\u001b[39m=\u001b[39m\u001b[39m0\u001b[39m,\u001b[39mmax\u001b[39m\u001b[39m=\u001b[39m\u001b[39m100\u001b[39m)\n\u001b[0;32m      <a href='vscode-notebook-cell:/c%3A/Users/PowerUser/Documents/GitHub/2023_09_11_hw1/lesson6_2.ipynb#W6sZmlsZQ%3D%3D?line=8'>9</a>\u001b[0m \u001b[39mimport\u001b[39;00m \u001b[39mpyinputplus\u001b[39;00m \u001b[39mas\u001b[39;00m \u001b[39mpyip\u001b[39;00m\n\u001b[0;32m     <a href='vscode-notebook-cell:/c%3A/Users/PowerUser/Documents/GitHub/2023_09_11_hw1/lesson6_2.ipynb#W6sZmlsZQ%3D%3D?line=9'>10</a>\u001b[0m scores \u001b[39m=\u001b[39m pyip\u001b[39m.\u001b[39minputInt(prompt\u001b[39m=\u001b[39m\u001b[39m\"\u001b[39m\u001b[39m請輸入分數:\u001b[39m\u001b[39m\"\u001b[39m,\u001b[39mmin\u001b[39m\u001b[39m=\u001b[39m\u001b[39m0\u001b[39m,\u001b[39mmax\u001b[39m\u001b[39m=\u001b[39m\u001b[39m100\u001b[39m)\n",
      "\u001b[1;31mNameError\u001b[0m: name 'pyip' is not defined"
     ]
    }
   ],
   "source": [
    "# 90(含)~100分為「優」\n",
    "# 80(含)~89分為「甲」\n",
    "# 70(含)~79分為「乙」\n",
    "# 60(含)~69分為「丙」\n",
    "# 0(含)~59分為「丁」\n",
    "\n",
    "score = pyip.inputInt(\"請輸入學生分數:\",min=0,max=100)\n",
    "\n",
    "import pyinputplus as pyip\n",
    "\n",
    "scores = pyip.inputInt(prompt=\"請輸入分數:\",min=0,max=100)\n",
    "print(scores)\n",
    "message = \"\"\n",
    "#巢狀判斷,4個if\n",
    "if scores >= 90:\n",
    "    message = \"優\"\n",
    "else:\n",
    "    if scores >= 80:\n",
    "        message = \"甲\"\n",
    "    else:\n",
    "        if scores >= 70:\n",
    "            message = \"乙\"\n",
    "        else:\n",
    "            if scores >= 60:\n",
    "                message = \"丙\"\n",
    "            else:\n",
    "                message = \"丁\"\n",
    "print(message)"
   ]
  }
 ],
 "metadata": {
  "kernelspec": {
   "display_name": ".venv",
   "language": "python",
   "name": "python3"
  },
  "language_info": {
   "codemirror_mode": {
    "name": "ipython",
    "version": 3
   },
   "file_extension": ".py",
   "mimetype": "text/x-python",
   "name": "python",
   "nbconvert_exporter": "python",
   "pygments_lexer": "ipython3",
   "version": "3.10.8"
  },
  "orig_nbformat": 4
 },
 "nbformat": 4,
 "nbformat_minor": 2
}
